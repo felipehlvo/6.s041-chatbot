{
 "cells": [
  {
   "cell_type": "markdown",
   "metadata": {},
   "source": [
    "# Chatbot Development\n",
    "\n",
    "Use this notebook to load the model and then initialize, update, and test the chatbot."
   ]
  },
  {
   "cell_type": "markdown",
   "metadata": {},
   "source": [
    "### Setup and Imports"
   ]
  },
  {
   "cell_type": "code",
   "execution_count": 2,
   "metadata": {},
   "outputs": [],
   "source": [
    "import torch\n",
    "from huggingface_hub import login\n",
    "\n",
    "\n",
    "from src.chat import SchoolChatbot\n",
    "from config import BASE_MODEL, MY_MODEL"
   ]
  },
  {
   "cell_type": "code",
   "execution_count": 3,
   "metadata": {},
   "outputs": [
    {
     "data": {
      "application/vnd.jupyter.widget-view+json": {
       "model_id": "ff59107153de41388d73dba05817149a",
       "version_major": 2,
       "version_minor": 0
      },
      "text/plain": [
       "VBox(children=(HTML(value='<center> <img\\nsrc=https://huggingface.co/front/assets/huggingface_logo-noborder.sv…"
      ]
     },
     "metadata": {},
     "output_type": "display_data"
    }
   ],
   "source": [
    "\"\"\"\n",
    "TODO: Add your Hugging Face token\n",
    "Options:\n",
    "1. Use login() and enter token when prompted. It won't ask for your token if you already logged in using the command: huggingface-cli login in the terminal.\n",
    "2. Set environment variable HUGGINGFACE_TOKEN\n",
    "3. Pass token directly (not recommended for shared notebooks)\n",
    "\"\"\"\n",
    "\n",
    "login()\n",
    "\n"
   ]
  },
  {
   "cell_type": "markdown",
   "metadata": {},
   "source": [
    "### Initialize and test chatbot"
   ]
  },
  {
   "cell_type": "code",
   "execution_count": 4,
   "metadata": {},
   "outputs": [
    {
     "name": "stderr",
     "output_type": "stream",
     "text": [
      "Some parameters are on the meta device because they were offloaded to the disk.\n",
      "Device set to use mps\n"
     ]
    }
   ],
   "source": [
    "\"\"\"\n",
    "Create chatbot instance using chat.py\n",
    "\"\"\"\n",
    "chatbot = SchoolChatbot()"
   ]
  },
  {
   "cell_type": "code",
   "execution_count": 5,
   "metadata": {},
   "outputs": [
    {
     "name": "stdout",
     "output_type": "stream",
     "text": [
      "\n",
      "Question: Complete the sentence: Assignment to K0 and K1 is...\n"
     ]
    }
   ],
   "source": [
    "\"\"\"\n",
    "Test out generating some responses from the chatbot.\n",
    "Inference time\n",
    "\"\"\"\n",
    "test_question = \"Complete the sentence: Assignment to K0 and K1 is...\"\n",
    "\n",
    "print(f\"\\nQuestion: {test_question}\")\n",
    "\n",
    "\n"
   ]
  },
  {
   "cell_type": "code",
   "execution_count": 7,
   "metadata": {},
   "outputs": [
    {
     "data": {
      "text/plain": [
       "'<|system|>\\n\\n        You are a helpful assistant that specializes in Boston schools. You should always provide accurate information, based ONLY on the SCHOOL RULES document below. \\n\\nIf an information is not in the SCHOOL RULES document, you should respond with \"Sorry, I can\\'t help with that.\" Only output the answer to the user\\'s immediate question, nothing else. Do not try to predict the next user question.\\n\\nSCHOOL RULES:\\n\\n## **Kindergarten School Eligibility**\\n\\n* Eligible for all.   \\n* K2 is full-day kindergarten and is offered in all BPS elementary schools.  \\n* Assignment to K2 is guaranteed for all applicants, but not guaranteed for a specific school.  \\n* Assignment to K0 and K1 is limited and not guaranteed due to space constraints.  \\n* Massachusetts law requires children to attend school starting the year they turn 6\\\\.\\n             </s>\\n<|user|>\\nComplete the sentence: Assignment to K0 and K1 is...</s>\\n<|assistant|>\\n'"
      ]
     },
     "execution_count": 7,
     "metadata": {},
     "output_type": "execute_result"
    }
   ],
   "source": [
    "chatbot.format_prompt_tokenizer(test_question, [])"
   ]
  },
  {
   "cell_type": "code",
   "execution_count": null,
   "metadata": {},
   "outputs": [
    {
     "data": {
      "text/plain": [
       "'\\n        You are a helpful assistant that specializes in Boston schools. You should always provide accurate information, based ONLY on the SCHOOL RULES document below. \\nIf an information is not in the SCHOOL RULES document, you should respond with \"Sorry, I can\\'t help with that.\" Only output the answer to the user\\'s immediate question, nothing else. Do not try to predict the next user question.\\n\\nSCHOOL RULES:\\n\\n## **Kindergarten School Eligibility**\\n\\n* Eligible for all.   \\n* K2 is full-day kindergarten and is offered in all BPS elementary schools.  \\n* Assignment to K2 is guaranteed for all applicants, but not guaranteed for a specific school.  \\n* Assignment to K0 and K1 is limited and not guaranteed due to space constraints.  \\n* Massachusetts law requires children to attend school starting the year they turn 6. \\n\\n            User: I live in Jamaica Plain and want to send my child to a school that offers Spanish classes. What schools are available?\\nAssistant:'"
      ]
     },
     "execution_count": 5,
     "metadata": {},
     "output_type": "execute_result"
    }
   ],
   "source": [
    "response = chatbot.get_response(test_question, \"\")\n",
    "\n",
    "print(f\"Response: {response}\")"
   ]
  },
  {
   "cell_type": "markdown",
   "metadata": {},
   "source": [
    "# TODO: Update pre-trained Llama to be a school choice chatbot\n",
    "\n",
    "This part is up to you! You might want to finetune the model, simply make a really good system prompt, use RAG, provide the model boston school choice data in-context, etc. Be creative!\n",
    "\n",
    "You can also feel free to do this in another script and then evaluate the model here.\n",
    "\n",
    "Tips:\n",
    "- HuggingFace has built-in methods to finetune models, if you choose that route. Take advantage of those methods! You can then save your new, finetuned model in the HuggingFace Hub. Change MY_MODEL in config.py to the name of the model in the hub to make your chatbot use it.\n",
    "- You may also want to consider LoRA if you choose finetuning."
   ]
  }
 ],
 "metadata": {
  "kernelspec": {
   "display_name": "venv",
   "language": "python",
   "name": "python3"
  },
  "language_info": {
   "codemirror_mode": {
    "name": "ipython",
    "version": 3
   },
   "file_extension": ".py",
   "mimetype": "text/x-python",
   "name": "python",
   "nbconvert_exporter": "python",
   "pygments_lexer": "ipython3",
   "version": "3.11.0"
  }
 },
 "nbformat": 4,
 "nbformat_minor": 2
}
