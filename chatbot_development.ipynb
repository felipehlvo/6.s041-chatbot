{
 "cells": [
  {
   "cell_type": "markdown",
   "metadata": {},
   "source": [
    "# Chatbot Development\n",
    "\n",
    "Use this notebook to load the model and then initialize, update, and test the chatbot."
   ]
  },
  {
   "cell_type": "markdown",
   "metadata": {},
   "source": [
    "### Setup and Imports"
   ]
  },
  {
   "cell_type": "code",
   "execution_count": 1,
   "metadata": {},
   "outputs": [],
   "source": [
    "import torch\n",
    "from huggingface_hub import login\n",
    "\n",
    "\n",
    "from src.chat import SchoolChatbot\n",
    "from config import BASE_MODEL, MY_MODEL"
   ]
  },
  {
   "cell_type": "code",
   "execution_count": 2,
   "metadata": {},
   "outputs": [
    {
     "data": {
      "application/vnd.jupyter.widget-view+json": {
       "model_id": "d76f384ecc6c4cf68c775e7b618d9072",
       "version_major": 2,
       "version_minor": 0
      },
      "text/plain": [
       "VBox(children=(HTML(value='<center> <img\\nsrc=https://huggingface.co/front/assets/huggingface_logo-noborder.sv…"
      ]
     },
     "metadata": {},
     "output_type": "display_data"
    }
   ],
   "source": [
    "\"\"\"\n",
    "TODO: Add your Hugging Face token\n",
    "Options:\n",
    "1. Use login() and enter token when prompted. It won't ask for your token if you already logged in using the command: huggingface-cli login in the terminal.\n",
    "2. Set environment variable HUGGINGFACE_TOKEN\n",
    "3. Pass token directly (not recommended for shared notebooks)\n",
    "\"\"\"\n",
    "\n",
    "login()\n",
    "\n"
   ]
  },
  {
   "cell_type": "markdown",
   "metadata": {},
   "source": [
    "### Initialize and test chatbot"
   ]
  },
  {
   "cell_type": "code",
   "execution_count": 3,
   "metadata": {},
   "outputs": [],
   "source": [
    "\"\"\"\n",
    "Create chatbot instance using chat.py\n",
    "\"\"\"\n",
    "chatbot = SchoolChatbot()"
   ]
  },
  {
   "cell_type": "code",
   "execution_count": 4,
   "metadata": {},
   "outputs": [
    {
     "name": "stdout",
     "output_type": "stream",
     "text": [
      "\n",
      "Question: Complete the sentence: Assignment to K0 and K1 is...\n"
     ]
    }
   ],
   "source": [
    "\"\"\"\n",
    "Test out generating some responses from the chatbot.\n",
    "Inference time\n",
    "\"\"\"\n",
    "test_question = \"Complete the sentence: Assignment to K0 and K1 is...\"\n",
    "\n",
    "print(f\"\\nQuestion: {test_question}\")\n",
    "\n",
    "\n"
   ]
  },
  {
   "cell_type": "code",
   "execution_count": 5,
   "metadata": {},
   "outputs": [
    {
     "data": {
      "text/plain": [
       "'\\n<|system|> You are a helpful assistant that specializes in Boston schools. You should always provide accurate information, based ONLY on the SCHOOL RULES document below. \\n\\nIf an information is not in the SCHOOL RULES document, you should respond with \"Sorry, I can\\'t help with that.\" Only output the answer to the user\\'s immediate question, nothing else. Do not try to predict the next user question.\\n\\nSCHOOL RULES:\\n\\n## **Kindergarten School Eligibility**\\n\\n## **Kindergarten School Eligibility**\\n\\n* Eligible for all.   \\n* K2 is full-day kindergarten and is offered in all BPS elementary schools.  \\n* Assignment to K2 is guaranteed for all applicants, but not guaranteed for a specific school.  \\n* Assignment to K0 and K1 is limited and not guaranteed due to space constraints.  \\n* Massachusetts law requires children to attend school starting the year they turn 6\\\\.\\n\\n## **Elementary School Eligibility (Grades 1-6)**\\n\\n* Eligibility based on school assignment rules (see below)  \\n* Most BPS elementary schools serve grades K2 through Grade 6\\\\.  \\n* Some schools offer early education options starting at K0 or K1.  \\n* Rising Grade 7 students in a K-6 school must submit a school choice form to select a new school.\\n\\n## **Middle School Eligibility (Grades 6-8)**\\n\\n* Eligibility based on school assignment rules (see below)\\n\\n## **School Assignment Rules (in detail) (K2 to Grade 8\\\\)**\\n\\n* BPS uses a Home-Based Assignment Plan:  \\n  * School assignment is based on a **student’s home address**.  \\n  * Each family receives a **customized list** of eligible schools.  \\n    * Includes **all schools within 1 mile** of the home.  \\n    * May also include **nearby high-quality schools**, based on BPS\\'s **School Quality Framework (SQF)**.  \\n  * Additional schools, called **Option Schools**, may be added to ensure every student is offered a seat and programmatic variety.  \\n  * Families can also choose any **citywide school** and, in some cases, have **regional options**.  \\n  * Most families will see **10 to 14 school options**.  \\n  * An **algorithm (similar to a lottery)** is used for assignments; top choices are **not guaranteed**.  \\n  * **K0 and K1 assignments are not guaranteed** due to limited seats.  \\n  * **Best chance of assignment** to preferred schools is for students registering in **January** for Grades **K0, K1, K2, 6, 7, or 9**.  \\n* Age restrictions may apply, consult age chart on the website.\\n\\n## **High School Eligibility (Grades 7-12)**\\n\\n* All BPS high schools are citywide — every student living in Boston is eligible to apply to all of them.  \\n* Most high schools serve Grades 7-12.  \\n* Some high schools have special admission requirements.\\n\\n## **Registration**\\n\\n* **Age-based eligibility and required documents**: Children must meet the age cutoffs for each grade by **September 1, 2025**, and families must provide key documents including proof of age, immunizations, physical exam, parent ID, and **two separate proofs of Boston residency**.  \\n* **Registration is not complete until you meet with a BPS registration specialist**: Families can **pre-register online** to save time, but **final enrollment requires an appointment** (virtual or in-person) with a BPS Welcome Center representative.  \\n* Priority registration for students entering K0, K1, K2, 6, 7, or 9 runs from January 6 to February 7, 2025, with assignment notifications on March 31, 2025\\\\.  \\n* Registration for all other grades runs from February 10 to April 4, 2025, with assignment notifications on May 31, 2025\\\\.\\n\\n## **Required Documents for Registration**\\n\\nFamilies must provide:\\n\\n* Child’s Birth Certificate, Passport, or I-94  \\n* Child’s Immunization Record  \\n* Child’s Physical Exam Record (within 1 year)  \\n* Parent/Guardian Photo ID  \\n* Two proofs of Boston residency from different categories (e.g., utility bill, lease, bank statement)\\n\\n## **Contact**\\n\\n* call the BPS Welcome Center at 617-635-9010  \\n* Watch prev information session: [https://k12-bostonpublicschools.zoom.us/rec/play/ZhU7qLQrhF3WRvr0OYfbr-G3Kadhiw8VpLaO7nQy6X29k8i-SnYE4yDDiKrWKuZUXTu13FxUKb85mDU2.UCpgyLDazDkHuhYw](https://k12-bostonpublicschools.zoom.us/rec/play/ZhU7qLQrhF3WRvr0OYfbr-G3Kadhiw8VpLaO7nQy6X29k8i-SnYE4yDDiKrWKuZUXTu13FxUKb85mDU2.UCpgyLDazDkHuhYw)  \\n* learn more about school choice: [https://boston.explore.avela.org/](https://boston.explore.avela.org/)  \\n* visit: [https://www.bostonpublicschools.org/](https://www.bostonpublicschools.org/)\\n\\n             <|user|> Complete the sentence: Assignment to K0 and K1 is...\\n<|assistant|>'"
      ]
     },
     "execution_count": 5,
     "metadata": {},
     "output_type": "execute_result"
    }
   ],
   "source": [
    "chatbot.format_prompt(test_question, [])"
   ]
  },
  {
   "cell_type": "code",
   "execution_count": 6,
   "metadata": {},
   "outputs": [
    {
     "name": "stdout",
     "output_type": "stream",
     "text": [
      "Generating response...\n",
      "Response: Assignment to K0 and K1 is limited and not guaranteed due to space constraints.\n"
     ]
    }
   ],
   "source": [
    "response = chatbot.get_response(test_question, \"\")\n",
    "\n",
    "print(f\"Response: {response}\")"
   ]
  },
  {
   "cell_type": "markdown",
   "metadata": {},
   "source": [
    "# TODO: Update pre-trained Llama to be a school choice chatbot\n",
    "\n",
    "This part is up to you! You might want to finetune the model, simply make a really good system prompt, use RAG, provide the model boston school choice data in-context, etc. Be creative!\n",
    "\n",
    "You can also feel free to do this in another script and then evaluate the model here.\n",
    "\n",
    "Tips:\n",
    "- HuggingFace has built-in methods to finetune models, if you choose that route. Take advantage of those methods! You can then save your new, finetuned model in the HuggingFace Hub. Change MY_MODEL in config.py to the name of the model in the hub to make your chatbot use it.\n",
    "- You may also want to consider LoRA if you choose finetuning."
   ]
  }
 ],
 "metadata": {
  "kernelspec": {
   "display_name": "venv",
   "language": "python",
   "name": "python3"
  },
  "language_info": {
   "codemirror_mode": {
    "name": "ipython",
    "version": 3
   },
   "file_extension": ".py",
   "mimetype": "text/x-python",
   "name": "python",
   "nbconvert_exporter": "python",
   "pygments_lexer": "ipython3",
   "version": "3.11.0"
  }
 },
 "nbformat": 4,
 "nbformat_minor": 2
}
